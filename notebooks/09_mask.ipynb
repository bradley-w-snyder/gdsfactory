{
 "cells": [
  {
   "cell_type": "markdown",
   "id": "0fd5fd63-4798-4187-8315-f6112b7b4d7e",
   "metadata": {},
   "source": [
    "# Mask\n",
    "\n",
    "With gdsfactory you can easily go from a Component, to a Component sweep, to a Mask full of components.\n",
    "\n",
    "## Test protocols\n",
    "\n",
    "To measure Components after fabrication you need to decide your test configurations. This includes things like:\n",
    "\n",
    "- `Individual input and output fibers` versus `fiber array`. I reccommend `fiber array` for easier testing and higher throughtput, but also understand the flexibility of single fibers for some cases.\n",
    "- Fiber array pitch (127um or 250um) if using a fiber array.\n",
    "- Pad pitch for DC and RF high speed probes (100, 125, 150, 200um). Probe configuration (GSG, GS ...)\n",
    "- Test layout for DC, RF and optical fibers.\n",
    "\n",
    "\n",
    "To enable automatic testing you need to add labels to all the devices that you want to test. GDS labels are not fabricated and are only visible in the GDS file.\n",
    "\n",
    "Lets show some different automatic labeling schemas:\n",
    "\n",
    "1. SiEPIC ubc Ebeam PDK schema, labels one of the grating couplers from the fiber array.\n",
    "2. `gf.dft.add_label_yaml` includes a YAML based Label with all testing information.\n",
    "3. EHVA automatic testers, include a Label component declaration as described in this [doc](https://drive.google.com/file/d/1kbQNrVLzPbefh3by7g2s865bcsA2vl5l/view)\n"
   ]
  },
  {
   "cell_type": "code",
   "execution_count": 1,
   "id": "c6d17c78",
   "metadata": {
    "execution": {
     "iopub.execute_input": "2022-05-20T16:35:02.702727Z",
     "iopub.status.busy": "2022-05-20T16:35:02.702318Z",
     "iopub.status.idle": "2022-05-20T16:35:05.463306Z",
     "shell.execute_reply": "2022-05-20T16:35:05.462438Z"
    }
   },
   "outputs": [
    {
     "name": "stderr",
     "output_type": "stream",
     "text": [
      "2022-05-20 16:35:03.818 | INFO     | gdsfactory.config:<module>:52 - Load '/home/runner/work/gdsfactory/gdsfactory/gdsfactory' 5.7.1\n"
     ]
    }
   ],
   "source": [
    "import gdsfactory as gf\n",
    "\n",
    "gf.config.set_plot_options(show_subports=False)"
   ]
  },
  {
   "cell_type": "code",
   "execution_count": 2,
   "id": "3054361e",
   "metadata": {
    "execution": {
     "iopub.execute_input": "2022-05-20T16:35:05.467815Z",
     "iopub.status.busy": "2022-05-20T16:35:05.467186Z",
     "iopub.status.idle": "2022-05-20T16:35:05.792031Z",
     "shell.execute_reply": "2022-05-20T16:35:05.791357Z"
    }
   },
   "outputs": [
    {
     "data": {
      "image/png": "[encoded data removed]",
      "text/plain": [
       "<Figure size 432x288 with 1 Axes>"
      ]
     },
     "metadata": {
      "needs_background": "light"
     },
     "output_type": "display_data"
    },
    {
     "data": {
      "text/html": [
       "mmi2x2_add_fiber_array__eb3777c0: uid 4, ports ['vertical_te_00', 'vertical_te_01', 'vertical_te_02', 'vertical_te_03'], aliases [], 0 polygons, 1 references"
      ],
      "text/plain": [
       "mmi2x2_add_fiber_array__eb3777c0: uid 4, ports ['vertical_te_00', 'vertical_te_01', 'vertical_te_02', 'vertical_te_03'], aliases [], 0 polygons, 1 references"
      ]
     },
     "execution_count": 2,
     "metadata": {},
     "output_type": "execute_result"
    }
   ],
   "source": [
    "mmi = gf.components.mmi2x2()\n",
    "mmi_te_siepic = gf.dft.add_fiber_array_siepic(component=mmi)\n",
    "mmi_te_siepic"
   ]
  },
  {
   "cell_type": "code",
   "execution_count": 3,
   "id": "e1d20c1e",
   "metadata": {
    "execution": {
     "iopub.execute_input": "2022-05-20T16:35:05.796292Z",
     "iopub.status.busy": "2022-05-20T16:35:05.795987Z",
     "iopub.status.idle": "2022-05-20T16:35:05.804431Z",
     "shell.execute_reply": "2022-05-20T16:35:05.803599Z"
    }
   },
   "outputs": [
    {
     "data": {
      "text/plain": [
       "[Label(\"opt_in_TE_1530_device_YourUserName_(mmi2x2)-1-o1\", (-23.69999999999999, 60.699999999999996), None, None, False, 10, 0)]"
      ]
     },
     "execution_count": 3,
     "metadata": {},
     "output_type": "execute_result"
    }
   ],
   "source": [
    "mmi_te_siepic.get_labels()"
   ]
  },
  {
   "cell_type": "code",
   "execution_count": 4,
   "id": "f151e1d6",
   "metadata": {
    "execution": {
     "iopub.execute_input": "2022-05-20T16:35:05.807936Z",
     "iopub.status.busy": "2022-05-20T16:35:05.807242Z",
     "iopub.status.idle": "2022-05-20T16:35:06.253411Z",
     "shell.execute_reply": "2022-05-20T16:35:06.252041Z"
    }
   },
   "outputs": [
    {
     "data": {
      "image/png": "[encoded data removed]",
      "text/plain": [
       "<Figure size 432x288 with 1 Axes>"
      ]
     },
     "metadata": {
      "needs_background": "light"
     },
     "output_type": "display_data"
    },
    {
     "data": {
      "text/html": [
       "mmi2x2_add_fiber_array_459c392f: uid 23, ports ['vertical_te_00', 'vertical_te_01', 'vertical_te_02', 'vertical_te_03', 'vertical_te_10', 'vertical_te_20'], aliases [], 0 polygons, 50 references"
      ],
      "text/plain": [
       "mmi2x2_add_fiber_array_459c392f: uid 23, ports ['vertical_te_00', 'vertical_te_01', 'vertical_te_02', 'vertical_te_03', 'vertical_te_10', 'vertical_te_20'], aliases [], 0 polygons, 50 references"
      ]
     },
     "execution_count": 4,
     "metadata": {},
     "output_type": "execute_result"
    }
   ],
   "source": [
    "mmi = gf.components.mmi2x2()\n",
    "mmi_te_yaml = gf.routing.add_fiber_array(mmi, get_input_labels_function=None)\n",
    "gf.dft.add_label_yaml(component=mmi_te_yaml)\n",
    "mmi_te_yaml"
   ]
  },
  {
   "cell_type": "code",
   "execution_count": 5,
   "id": "e64625d0",
   "metadata": {
    "execution": {
     "iopub.execute_input": "2022-05-20T16:35:06.256876Z",
     "iopub.status.busy": "2022-05-20T16:35:06.256456Z",
     "iopub.status.idle": "2022-05-20T16:35:06.272010Z",
     "shell.execute_reply": "2022-05-20T16:35:06.270733Z"
    }
   },
   "outputs": [
    {
     "data": {
      "text/plain": [
       "[Label(\"component_name: mmi2x2_add_fiber_array_459c392f\n",
       " polarization: None\n",
       " wavelength: None\n",
       " settings:\n",
       " ports:\n",
       "   vertical_te_20:\n",
       "     name: vertical_te_20    \n",
       "     width: 11.0    \n",
       "     midpoint:    \n",
       "     - 320.3    \n",
       "     - -80.96900000000001    \n",
       "     orientation: 270.0    \n",
       "     layer:    \n",
       "     - 203    \n",
       "     - 0    \n",
       "     port_type: vertical_te    \n",
       "     \n",
       "   vertical_te_03:\n",
       "     name: vertical_te_03    \n",
       "     width: 11.0    \n",
       "     midpoint:    \n",
       "     - 193.3    \n",
       "     - -80.96900000000001    \n",
       "     orientation: 270.0    \n",
       "     layer:    \n",
       "     - 203    \n",
       "     - 0    \n",
       "     port_type: vertical_te    \n",
       "     \n",
       "   vertical_te_02:\n",
       "     name: vertical_te_02    \n",
       "     width: 11.0    \n",
       "     midpoint:    \n",
       "     - 66.30000000000001    \n",
       "     - -80.96900000000001    \n",
       "     orientation: 270.0    \n",
       "     layer:    \n",
       "     - 203    \n",
       "     - 0    \n",
       "     port_type: vertical_te    \n",
       "     \n",
       "   vertical_te_01:\n",
       "     name: vertical_te_01    \n",
       "     width: 11.0    \n",
       "     midpoint:    \n",
       "     - -60.699999999999996    \n",
       "     - -80.96900000000001    \n",
       "     orientation: 270.0    \n",
       "     layer:    \n",
       "     - 203    \n",
       "     - 0    \n",
       "     port_type: vertical_te    \n",
       "     \n",
       "   vertical_te_00:\n",
       "     name: vertical_te_00    \n",
       "     width: 11.0    \n",
       "     midpoint:    \n",
       "     - -187.7    \n",
       "     - -80.96900000000001    \n",
       "     orientation: 270.0    \n",
       "     layer:    \n",
       "     - 203    \n",
       "     - 0    \n",
       "     port_type: vertical_te    \n",
       "     \n",
       "   vertical_te_10:\n",
       "     name: vertical_te_10    \n",
       "     width: 11.0    \n",
       "     midpoint:    \n",
       "     - -314.7    \n",
       "     - -80.96900000000001    \n",
       "     orientation: 270.0    \n",
       "     layer:    \n",
       "     - 203    \n",
       "     - 0    \n",
       "     port_type: vertical_te    \n",
       "     \", (0.0, 0.0), None, None, False, 66, 0)]"
      ]
     },
     "execution_count": 5,
     "metadata": {},
     "output_type": "execute_result"
    }
   ],
   "source": [
    "mmi_te_yaml.get_labels()"
   ]
  },
  {
   "cell_type": "code",
   "execution_count": 6,
   "id": "a8c06243",
   "metadata": {
    "execution": {
     "iopub.execute_input": "2022-05-20T16:35:06.276043Z",
     "iopub.status.busy": "2022-05-20T16:35:06.275585Z",
     "iopub.status.idle": "2022-05-20T16:35:06.569560Z",
     "shell.execute_reply": "2022-05-20T16:35:06.568694Z"
    }
   },
   "outputs": [
    {
     "data": {
      "image/png": "[encoded data removed]",
      "text/plain": [
       "<Figure size 432x288 with 1 Axes>"
      ]
     },
     "metadata": {
      "needs_background": "light"
     },
     "output_type": "display_data"
    },
    {
     "data": {
      "text/html": [
       "mmi2x2_add_fiber_array_459c392f: uid 23, ports ['vertical_te_00', 'vertical_te_01', 'vertical_te_02', 'vertical_te_03', 'vertical_te_10', 'vertical_te_20'], aliases [], 0 polygons, 50 references"
      ],
      "text/plain": [
       "mmi2x2_add_fiber_array_459c392f: uid 23, ports ['vertical_te_00', 'vertical_te_01', 'vertical_te_02', 'vertical_te_03', 'vertical_te_10', 'vertical_te_20'], aliases [], 0 polygons, 50 references"
      ]
     },
     "execution_count": 6,
     "metadata": {},
     "output_type": "execute_result"
    }
   ],
   "source": [
    "mmi_te_ehva = gf.routing.add_fiber_array(mmi, get_input_labels_function=None)\n",
    "mmi_te_ehva.remove_labels(lambda x: True)\n",
    "gf.dft.add_label_ehva(component=mmi_te_ehva, die='mpw1')\n",
    "mmi_te_ehva"
   ]
  },
  {
   "cell_type": "code",
   "execution_count": 7,
   "id": "d1cd2659",
   "metadata": {
    "execution": {
     "iopub.execute_input": "2022-05-20T16:35:06.573713Z",
     "iopub.status.busy": "2022-05-20T16:35:06.572997Z",
     "iopub.status.idle": "2022-05-20T16:35:06.583584Z",
     "shell.execute_reply": "2022-05-20T16:35:06.582222Z"
    }
   },
   "outputs": [
    {
     "data": {
      "text/plain": [
       "[Label(\"DIE NAME:mpw1\n",
       " CIRCUIT NAME:mmi2x2_add_fiber_array_459c392f\n",
       " \n",
       " OPTICALPORT NAME: vertical_te_20 TYPE: vertical_te, POSITION RELATIVE:(320.3, -80.969), ORIENTATION: 270\n",
       " OPTICALPORT NAME: vertical_te_03 TYPE: vertical_te, POSITION RELATIVE:(193.3, -80.969), ORIENTATION: 270\n",
       " OPTICALPORT NAME: vertical_te_02 TYPE: vertical_te, POSITION RELATIVE:(66.3, -80.969), ORIENTATION: 270\n",
       " OPTICALPORT NAME: vertical_te_01 TYPE: vertical_te, POSITION RELATIVE:(-60.7, -80.969), ORIENTATION: 270\n",
       " OPTICALPORT NAME: vertical_te_00 TYPE: vertical_te, POSITION RELATIVE:(-187.7, -80.969), ORIENTATION: 270\n",
       " OPTICALPORT NAME: vertical_te_10 TYPE: vertical_te, POSITION RELATIVE:(-314.7, -80.969), ORIENTATION: 270\", (0.0, 0.0), None, None, False, 66, 0)]"
      ]
     },
     "execution_count": 7,
     "metadata": {},
     "output_type": "execute_result"
    }
   ],
   "source": [
    "mmi_te_ehva.get_labels()"
   ]
  },
  {
   "cell_type": "markdown",
   "id": "ae8c6fe2",
   "metadata": {},
   "source": [
    "One advantage of the YAML and EHVA formats is that you can track any changes on the components directly from the GDS label, as the label already stores any changes of the child device, as well as any settings that you specify.\n",
    "\n",
    "Settings can have many levels of hierarchy, but you can still access any children setting with `:` notation.\n",
    "\n",
    "\n",
    "```\n",
    "grating_coupler:\n",
    "    function: grating_coupler_elliptical_trenches\n",
    "    settings: \n",
    "        polarization: te \n",
    "        taper_angle: 35\n",
    "\n",
    "```"
   ]
  },
  {
   "cell_type": "code",
   "execution_count": 8,
   "id": "d5be6d43",
   "metadata": {
    "execution": {
     "iopub.execute_input": "2022-05-20T16:35:06.587600Z",
     "iopub.status.busy": "2022-05-20T16:35:06.587322Z",
     "iopub.status.idle": "2022-05-20T16:35:07.061358Z",
     "shell.execute_reply": "2022-05-20T16:35:07.060547Z"
    }
   },
   "outputs": [
    {
     "data": {
      "image/png": "[encoded data removed]",
      "text/plain": [
       "<Figure size 432x288 with 1 Axes>"
      ]
     },
     "metadata": {
      "needs_background": "light"
     },
     "output_type": "display_data"
    },
    {
     "data": {
      "text/html": [
       "mmi2x2_ceafe2bf_add_fib_2a97d8b4: uid 62, ports ['vertical_te_00', 'vertical_te_01', 'vertical_te_02', 'vertical_te_03', 'vertical_te_10', 'vertical_te_20'], aliases [], 0 polygons, 50 references"
      ],
      "text/plain": [
       "mmi2x2_ceafe2bf_add_fib_2a97d8b4: uid 62, ports ['vertical_te_00', 'vertical_te_01', 'vertical_te_02', 'vertical_te_03', 'vertical_te_10', 'vertical_te_20'], aliases [], 0 polygons, 50 references"
      ]
     },
     "execution_count": 8,
     "metadata": {},
     "output_type": "execute_result"
    }
   ],
   "source": [
    "mmi = gf.components.mmi2x2(length_mmi=10)\n",
    "mmi_te_ehva = gf.routing.add_fiber_array(mmi, get_input_labels_function=None)\n",
    "mmi_te_ehva.remove_labels(lambda x: True)\n",
    "gf.dft.add_label_ehva(component=mmi_te_ehva, die='mpw1', metadata_include_parent=['grating_coupler:settings:polarization'])\n",
    "mmi_te_ehva"
   ]
  },
  {
   "cell_type": "code",
   "execution_count": 9,
   "id": "d021b96d",
   "metadata": {
    "execution": {
     "iopub.execute_input": "2022-05-20T16:35:07.065536Z",
     "iopub.status.busy": "2022-05-20T16:35:07.065106Z",
     "iopub.status.idle": "2022-05-20T16:35:07.075227Z",
     "shell.execute_reply": "2022-05-20T16:35:07.074212Z"
    }
   },
   "outputs": [
    {
     "data": {
      "text/plain": [
       "[Label(\"DIE NAME:mpw1\n",
       " CIRCUIT NAME:mmi2x2_ceafe2bf_add_fib_2a97d8b4\n",
       " CIRCUITINFO NAME: length_mmi, VALUE: 10\n",
       " CIRCUITINFO NAME: grating_coupler_settings_polarization, VALUE: te\n",
       " OPTICALPORT NAME: vertical_te_20 TYPE: vertical_te, POSITION RELATIVE:(322.5, -80.969), ORIENTATION: 270\n",
       " OPTICALPORT NAME: vertical_te_03 TYPE: vertical_te, POSITION RELATIVE:(195.5, -80.969), ORIENTATION: 270\n",
       " OPTICALPORT NAME: vertical_te_02 TYPE: vertical_te, POSITION RELATIVE:(68.5, -80.969), ORIENTATION: 270\n",
       " OPTICALPORT NAME: vertical_te_01 TYPE: vertical_te, POSITION RELATIVE:(-58.5, -80.969), ORIENTATION: 270\n",
       " OPTICALPORT NAME: vertical_te_00 TYPE: vertical_te, POSITION RELATIVE:(-185.5, -80.969), ORIENTATION: 270\n",
       " OPTICALPORT NAME: vertical_te_10 TYPE: vertical_te, POSITION RELATIVE:(-312.5, -80.969), ORIENTATION: 270\", (0.0, 0.0), None, None, False, 66, 0)]"
      ]
     },
     "execution_count": 9,
     "metadata": {},
     "output_type": "execute_result"
    }
   ],
   "source": [
    "mmi_te_ehva.get_labels()"
   ]
  },
  {
   "cell_type": "markdown",
   "id": "54305dea",
   "metadata": {},
   "source": [
    "## Pack\n",
    "\n",
    "Lets start with a resistance sweep, where you change the resistance width to measure sheet resistance."
   ]
  },
  {
   "cell_type": "code",
   "execution_count": 10,
   "id": "624be8bc-9d7f-40e8-9217-c0d9071471e9",
   "metadata": {
    "execution": {
     "iopub.execute_input": "2022-05-20T16:35:07.078682Z",
     "iopub.status.busy": "2022-05-20T16:35:07.078406Z",
     "iopub.status.idle": "2022-05-20T16:35:07.727318Z",
     "shell.execute_reply": "2022-05-20T16:35:07.726509Z"
    }
   },
   "outputs": [
    {
     "data": {
      "image/png": "[encoded data removed]",
      "text/plain": [
       "<Figure size 432x288 with 1 Axes>"
      ]
     },
     "metadata": {
      "needs_background": "light"
     },
     "output_type": "display_data"
    },
    {
     "data": {
      "text/html": [
       "pack_0_fed47965: uid 81, ports [], aliases [], 0 polygons, 3 references"
      ],
      "text/plain": [
       "pack_0_fed47965: uid 81, ports [], aliases [], 0 polygons, 3 references"
      ]
     },
     "execution_count": 10,
     "metadata": {},
     "output_type": "execute_result"
    }
   ],
   "source": [
    "\n",
    "sweep = [gf.components.resistance_sheet(width=width) for width in [1, 10, 100]]\n",
    "m = gf.pack(sweep)\n",
    "c = m[0]\n",
    "c"
   ]
  },
  {
   "cell_type": "markdown",
   "id": "f5b98ad7",
   "metadata": {},
   "source": [
    "Then we add spirals with different lengths to measure waveguide propagation loss."
   ]
  },
  {
   "cell_type": "code",
   "execution_count": 11,
   "id": "c23b51c3",
   "metadata": {
    "execution": {
     "iopub.execute_input": "2022-05-20T16:35:07.731332Z",
     "iopub.status.busy": "2022-05-20T16:35:07.731071Z",
     "iopub.status.idle": "2022-05-20T16:35:08.105523Z",
     "shell.execute_reply": "2022-05-20T16:35:08.104587Z"
    }
   },
   "outputs": [
    {
     "data": {
      "image/png": "[encoded data removed]",
      "text/plain": [
       "<Figure size 432x288 with 1 Axes>"
      ]
     },
     "metadata": {
      "needs_background": "light"
     },
     "output_type": "display_data"
    },
    {
     "data": {
      "text/html": [
       "spiral_inner_io_50517bc_c5d5c76b: uid 82, ports ['o2', 'o1'], aliases [], 0 polygons, 3 references"
      ],
      "text/plain": [
       "spiral_inner_io_50517bc_c5d5c76b: uid 82, ports ['o2', 'o1'], aliases [], 0 polygons, 3 references"
      ]
     },
     "execution_count": 11,
     "metadata": {},
     "output_type": "execute_result"
    }
   ],
   "source": [
    "spiral = gf.components.spiral_inner_io_fiber_single()\n",
    "spiral"
   ]
  },
  {
   "cell_type": "code",
   "execution_count": 12,
   "id": "b5a870bf-69d0-4088-83dc-c2a911bbdf70",
   "metadata": {
    "execution": {
     "iopub.execute_input": "2022-05-20T16:35:08.109207Z",
     "iopub.status.busy": "2022-05-20T16:35:08.108870Z",
     "iopub.status.idle": "2022-05-20T16:35:08.441719Z",
     "shell.execute_reply": "2022-05-20T16:35:08.440596Z"
    }
   },
   "outputs": [
    {
     "data": {
      "image/png": "[encoded data removed]",
      "text/plain": [
       "<Figure size 432x288 with 1 Axes>"
      ]
     },
     "metadata": {
      "needs_background": "light"
     },
     "output_type": "display_data"
    },
    {
     "data": {
      "text/html": [
       "spiral_inner_io_50517bc_102ecb4d: uid 144, ports ['vertical_te_0', 'vertical_te_1', 'loopback1', 'loopback2'], aliases [], 0 polygons, 6 references"
      ],
      "text/plain": [
       "spiral_inner_io_50517bc_102ecb4d: uid 144, ports ['vertical_te_0', 'vertical_te_1', 'loopback1', 'loopback2'], aliases [], 0 polygons, 6 references"
      ]
     },
     "execution_count": 12,
     "metadata": {},
     "output_type": "execute_result"
    }
   ],
   "source": [
    "spiral_te = gf.routing.add_fiber_single(\n",
    "    gf.functions.rotate(gf.components.spiral_inner_io_fiber_single, 90)\n",
    ")\n",
    "spiral_te"
   ]
  },
  {
   "cell_type": "code",
   "execution_count": 13,
   "id": "292aeb23-52b7-4b95-af3f-1218fcb3e60e",
   "metadata": {
    "execution": {
     "iopub.execute_input": "2022-05-20T16:35:08.445321Z",
     "iopub.status.busy": "2022-05-20T16:35:08.444877Z",
     "iopub.status.idle": "2022-05-20T16:35:09.111835Z",
     "shell.execute_reply": "2022-05-20T16:35:09.111022Z"
    }
   },
   "outputs": [
    {
     "data": {
      "image/png": "[encoded data removed]",
      "text/plain": [
       "<Figure size 432x288 with 1 Axes>"
      ]
     },
     "metadata": {
      "needs_background": "light"
     },
     "output_type": "display_data"
    },
    {
     "data": {
      "text/html": [
       "spiral_inner_io_cff9290_b1ebb9fd: uid 225, ports ['vertical_te_0', 'vertical_te_1', 'loopback1', 'loopback2'], aliases [], 0 polygons, 6 references"
      ],
      "text/plain": [
       "spiral_inner_io_cff9290_b1ebb9fd: uid 225, ports ['vertical_te_0', 'vertical_te_1', 'loopback1', 'loopback2'], aliases [], 0 polygons, 6 references"
      ]
     },
     "execution_count": 13,
     "metadata": {},
     "output_type": "execute_result"
    }
   ],
   "source": [
    "# which is equivalent to\n",
    "spiral_te = gf.compose(\n",
    "    gf.routing.add_fiber_single,\n",
    "    gf.functions.rotate90,\n",
    "    gf.components.spiral_inner_io_fiber_single,\n",
    ")\n",
    "c = spiral_te(length=10e3)\n",
    "c"
   ]
  },
  {
   "cell_type": "code",
   "execution_count": 14,
   "id": "28642192-edaa-47de-a70c-0a6b1c60ec87",
   "metadata": {
    "execution": {
     "iopub.execute_input": "2022-05-20T16:35:09.115713Z",
     "iopub.status.busy": "2022-05-20T16:35:09.115437Z",
     "iopub.status.idle": "2022-05-20T16:35:10.497113Z",
     "shell.execute_reply": "2022-05-20T16:35:10.496218Z"
    }
   },
   "outputs": [
    {
     "data": {
      "image/png": "[encoded data removed]",
      "text/plain": [
       "<Figure size 432x288 with 1 Axes>"
      ]
     },
     "metadata": {
      "needs_background": "light"
     },
     "output_type": "display_data"
    },
    {
     "data": {
      "text/html": [
       "pack_0_c598f3c3: uid 291, ports [], aliases [], 0 polygons, 3 references"
      ],
      "text/plain": [
       "pack_0_c598f3c3: uid 291, ports [], aliases [], 0 polygons, 3 references"
      ]
     },
     "execution_count": 14,
     "metadata": {},
     "output_type": "execute_result"
    }
   ],
   "source": [
    "import gdsfactory as gf\n",
    "\n",
    "add_label_ehva_mpw1 = gf.partial(gf.dft.add_label_ehva, die='mpw1')\n",
    "add_fiber_single_no_labels = gf.partial(gf.routing.add_fiber_single, get_input_label_text_function=None)\n",
    "\n",
    "spiral_te = gf.compose(\n",
    "    add_label_ehva_mpw1,\n",
    "    add_fiber_single_no_labels,\n",
    "    gf.functions.rotate90,\n",
    "    gf.components.spiral_inner_io_fiber_single,\n",
    ")\n",
    "sweep = [spiral_te(length=length) for length in [10e3, 20e3, 30e3]]\n",
    "m = gf.pack(sweep)\n",
    "c = m[0]\n",
    "c"
   ]
  },
  {
   "cell_type": "code",
   "execution_count": 15,
   "id": "50f82ccf",
   "metadata": {
    "execution": {
     "iopub.execute_input": "2022-05-20T16:35:10.501052Z",
     "iopub.status.busy": "2022-05-20T16:35:10.500415Z",
     "iopub.status.idle": "2022-05-20T16:35:10.512368Z",
     "shell.execute_reply": "2022-05-20T16:35:10.511540Z"
    }
   },
   "outputs": [
    {
     "data": {
      "text/plain": [
       "[Label(\"DIE NAME:mpw1\n",
       " CIRCUIT NAME:spiral_inner_io_1554034_7d3365a5\n",
       " CIRCUITINFO NAME: grating_spacing, VALUE: 200\n",
       " CIRCUITINFO NAME: length, VALUE: 30000\n",
       " CIRCUITINFO NAME: x_straight_inner_left, VALUE: 75\n",
       " CIRCUITINFO NAME: x_straight_inner_right, VALUE: 40\n",
       " CIRCUITINFO NAME: y_straight_inner_bottom, VALUE: 0\n",
       " CIRCUITINFO NAME: y_straight_inner_top, VALUE: 10\n",
       " OPTICALPORT NAME: vertical_te_1 TYPE: vertical_te, POSITION RELATIVE:(0.0, 26.269), ORIENTATION: 90.0\n",
       " OPTICALPORT NAME: vertical_te_0 TYPE: vertical_te, POSITION RELATIVE:(-0.0, -246.269), ORIENTATION: 270.0\n",
       " OPTICALPORT NAME: loopback2 TYPE: loopback, POSITION RELATIVE:(-99.5, 1011.738), ORIENTATION: 90.0\n",
       " OPTICALPORT NAME: loopback1 TYPE: loopback, POSITION RELATIVE:(-99.5, -289.438), ORIENTATION: 270\", (117.5215, 308.30000000000007), None, None, False, 66, 0),\n",
       " Label(\"DIE NAME:mpw1\n",
       " CIRCUIT NAME:spiral_inner_io_5388707_e882691d\n",
       " CIRCUITINFO NAME: grating_spacing, VALUE: 200\n",
       " CIRCUITINFO NAME: length, VALUE: 20000\n",
       " CIRCUITINFO NAME: x_straight_inner_left, VALUE: 75\n",
       " CIRCUITINFO NAME: x_straight_inner_right, VALUE: 40\n",
       " CIRCUITINFO NAME: y_straight_inner_bottom, VALUE: 0\n",
       " CIRCUITINFO NAME: y_straight_inner_top, VALUE: 10\n",
       " OPTICALPORT NAME: vertical_te_1 TYPE: vertical_te, POSITION RELATIVE:(0.0, 26.269), ORIENTATION: 90.0\n",
       " OPTICALPORT NAME: vertical_te_0 TYPE: vertical_te, POSITION RELATIVE:(-0.0, -246.269), ORIENTATION: 270.0\n",
       " OPTICALPORT NAME: loopback2 TYPE: loopback, POSITION RELATIVE:(-99.5, 557.193), ORIENTATION: 90.0\n",
       " OPTICALPORT NAME: loopback1 TYPE: loopback, POSITION RELATIVE:(-99.5, -289.438), ORIENTATION: 270\", (293.2415, 308.2975), None, None, False, 66, 0),\n",
       " Label(\"DIE NAME:mpw1\n",
       " CIRCUIT NAME:spiral_inner_io_cff9290_1c87f0d4\n",
       " CIRCUITINFO NAME: grating_spacing, VALUE: 200\n",
       " CIRCUITINFO NAME: length, VALUE: 10000\n",
       " CIRCUITINFO NAME: x_straight_inner_left, VALUE: 75\n",
       " CIRCUITINFO NAME: x_straight_inner_right, VALUE: 40\n",
       " CIRCUITINFO NAME: y_straight_inner_bottom, VALUE: 0\n",
       " CIRCUITINFO NAME: y_straight_inner_top, VALUE: 10\n",
       " OPTICALPORT NAME: vertical_te_1 TYPE: vertical_te, POSITION RELATIVE:(0.0, 26.269), ORIENTATION: 90.0\n",
       " OPTICALPORT NAME: vertical_te_0 TYPE: vertical_te, POSITION RELATIVE:(-0.0, -246.269), ORIENTATION: 270.0\n",
       " OPTICALPORT NAME: loopback2 TYPE: loopback, POSITION RELATIVE:(-99.5, 102.647), ORIENTATION: 90.0\n",
       " OPTICALPORT NAME: loopback1 TYPE: loopback, POSITION RELATIVE:(-99.5, -289.438), ORIENTATION: 270\", (468.9615, 308.2955), None, None, False, 66, 0)]"
      ]
     },
     "execution_count": 15,
     "metadata": {},
     "output_type": "execute_result"
    }
   ],
   "source": [
    "c.get_labels()"
   ]
  },
  {
   "cell_type": "markdown",
   "id": "de11e81e-fed1-49c1-b3b1-3f38ca1d7e4b",
   "metadata": {},
   "source": [
    "Together with GDS labels that are not fabricated, you can also add some physical labels that will be fabricated.\n",
    "\n",
    "For example you can add prefix `S` at the `north-center` of each spiral using `text_rectangular` which is DRC clean and anchored on `nc` (north-center)"
   ]
  },
  {
   "cell_type": "code",
   "execution_count": 16,
   "id": "163625c7-3446-43fb-9d79-21ba1b2ef84f",
   "metadata": {
    "execution": {
     "iopub.execute_input": "2022-05-20T16:35:10.516372Z",
     "iopub.status.busy": "2022-05-20T16:35:10.515964Z",
     "iopub.status.idle": "2022-05-20T16:35:10.899201Z",
     "shell.execute_reply": "2022-05-20T16:35:10.898183Z"
    }
   },
   "outputs": [
    {
     "data": {
      "image/png": "[encoded data removed]",
      "text/plain": [
       "<Figure size 432x288 with 1 Axes>"
      ]
     },
     "metadata": {
      "needs_background": "light"
     },
     "output_type": "display_data"
    },
    {
     "data": {
      "text/html": [
       "pack_0_b3147774: uid 292, ports [], aliases [], 0 polygons, 6 references"
      ],
      "text/plain": [
       "pack_0_b3147774: uid 292, ports [], aliases [], 0 polygons, 6 references"
      ]
     },
     "execution_count": 16,
     "metadata": {},
     "output_type": "execute_result"
    }
   ],
   "source": [
    "text_metal3 = gf.partial(\n",
    "    gf.components.text_rectangular_multi_layer, layers=(gf.LAYER.M3,)\n",
    ")\n",
    "\n",
    "m = gf.pack(sweep, text=text_metal3, text_anchors=(\"nc\",), text_prefix=\"s\")\n",
    "c = m[0]\n",
    "c"
   ]
  },
  {
   "cell_type": "code",
   "execution_count": 17,
   "id": "67d3167c-9820-43a8-a8c3-d7db3f6bbb42",
   "metadata": {
    "execution": {
     "iopub.execute_input": "2022-05-20T16:35:10.902828Z",
     "iopub.status.busy": "2022-05-20T16:35:10.902538Z",
     "iopub.status.idle": "2022-05-20T16:35:11.257551Z",
     "shell.execute_reply": "2022-05-20T16:35:11.256502Z"
    }
   },
   "outputs": [
    {
     "data": {
      "image/png": "[encoded data removed]",
      "text/plain": [
       "<Figure size 432x288 with 1 Axes>"
      ]
     },
     "metadata": {
      "needs_background": "light"
     },
     "output_type": "display_data"
    },
    {
     "data": {
      "text/html": [
       "pack_0_56bdb489: uid 303, ports [], aliases [], 0 polygons, 6 references"
      ],
      "text/plain": [
       "pack_0_56bdb489: uid 303, ports [], aliases [], 0 polygons, 6 references"
      ]
     },
     "execution_count": 17,
     "metadata": {},
     "output_type": "execute_result"
    }
   ],
   "source": [
    "text_metal2 = gf.partial(gf.components.text, layer=gf.LAYER.M2)\n",
    "\n",
    "m = gf.pack(sweep, text=text_metal2, text_anchors=(\"nc\",), text_prefix=\"s\")\n",
    "c = m[0]\n",
    "c"
   ]
  },
  {
   "cell_type": "markdown",
   "id": "202f96c4-3534-492d-beb1-739b75a0caa2",
   "metadata": {},
   "source": [
    "## Grid\n",
    "\n",
    "You can also pack components with a constant spacing. "
   ]
  },
  {
   "cell_type": "code",
   "execution_count": 18,
   "id": "c0510675-a6a0-48ab-868b-147548c9baa9",
   "metadata": {
    "execution": {
     "iopub.execute_input": "2022-05-20T16:35:11.262092Z",
     "iopub.status.busy": "2022-05-20T16:35:11.261496Z",
     "iopub.status.idle": "2022-05-20T16:35:11.669427Z",
     "shell.execute_reply": "2022-05-20T16:35:11.668465Z"
    }
   },
   "outputs": [
    {
     "data": {
      "image/png": "[encoded data removed]",
      "text/plain": [
       "<Figure size 432x288 with 1 Axes>"
      ]
     },
     "metadata": {
      "needs_background": "light"
     },
     "output_type": "display_data"
    },
    {
     "data": {
      "text/html": [
       "grid_0433042f: uid 310, ports [], aliases [(0, 0), (1, 0), (2, 0)], 0 polygons, 3 references"
      ],
      "text/plain": [
       "grid_0433042f: uid 310, ports [], aliases [(0, 0), (1, 0), (2, 0)], 0 polygons, 3 references"
      ]
     },
     "execution_count": 18,
     "metadata": {},
     "output_type": "execute_result"
    }
   ],
   "source": [
    "g = gf.grid(sweep)\n",
    "g"
   ]
  },
  {
   "cell_type": "code",
   "execution_count": 19,
   "id": "ef5c0177-ba7d-4763-bd19-25b094dcaaa1",
   "metadata": {
    "execution": {
     "iopub.execute_input": "2022-05-20T16:35:11.673443Z",
     "iopub.status.busy": "2022-05-20T16:35:11.672991Z",
     "iopub.status.idle": "2022-05-20T16:35:12.103724Z",
     "shell.execute_reply": "2022-05-20T16:35:12.102864Z"
    }
   },
   "outputs": [
    {
     "data": {
      "image/png": "[encoded data removed]",
      "text/plain": [
       "<Figure size 432x288 with 1 Axes>"
      ]
     },
     "metadata": {
      "needs_background": "light"
     },
     "output_type": "display_data"
    },
    {
     "data": {
      "text/html": [
       "grid_4636a03c: uid 312, ports [], aliases [(0, 0), (0, 1), (0, 2)], 0 polygons, 3 references"
      ],
      "text/plain": [
       "grid_4636a03c: uid 312, ports [], aliases [(0, 0), (0, 1), (0, 2)], 0 polygons, 3 references"
      ]
     },
     "execution_count": 19,
     "metadata": {},
     "output_type": "execute_result"
    }
   ],
   "source": [
    "gh = gf.grid(sweep, shape=(1, len(sweep)))\n",
    "gh"
   ]
  },
  {
   "cell_type": "code",
   "execution_count": 20,
   "id": "f1b19b3c-ef2a-4684-a961-057e71d057fa",
   "metadata": {
    "execution": {
     "iopub.execute_input": "2022-05-20T16:35:12.109666Z",
     "iopub.status.busy": "2022-05-20T16:35:12.109140Z",
     "iopub.status.idle": "2022-05-20T16:35:12.529982Z",
     "shell.execute_reply": "2022-05-20T16:35:12.528962Z"
    }
   },
   "outputs": [
    {
     "data": {
      "image/png": "[encoded data removed]",
      "text/plain": [
       "<Figure size 432x288 with 1 Axes>"
      ]
     },
     "metadata": {
      "needs_background": "light"
     },
     "output_type": "display_data"
    },
    {
     "data": {
      "text/html": [
       "grid_338cc2a3: uid 314, ports [], aliases [(0, 0), (0, 1), (0, 2)], 0 polygons, 3 references"
      ],
      "text/plain": [
       "grid_338cc2a3: uid 314, ports [], aliases [(0, 0), (0, 1), (0, 2)], 0 polygons, 3 references"
      ]
     },
     "execution_count": 20,
     "metadata": {},
     "output_type": "execute_result"
    }
   ],
   "source": [
    "gh_ymin = gf.grid(sweep, shape=(1, len(sweep)), align_y=\"ymin\")\n",
    "gh_ymin"
   ]
  },
  {
   "cell_type": "markdown",
   "id": "c906630b-d340-4f1f-9b6a-c88c39205d9d",
   "metadata": {},
   "source": [
    "You can also add text labels to each element of the sweep"
   ]
  },
  {
   "cell_type": "code",
   "execution_count": 21,
   "id": "28809b6e-2fa1-4ee0-96f8-9efec4a4c871",
   "metadata": {
    "execution": {
     "iopub.execute_input": "2022-05-20T16:35:12.535065Z",
     "iopub.status.busy": "2022-05-20T16:35:12.534497Z",
     "iopub.status.idle": "2022-05-20T16:35:13.252068Z",
     "shell.execute_reply": "2022-05-20T16:35:13.251169Z"
    },
    "vscode": {
     "languageId": "markdown"
    }
   },
   "outputs": [
    {
     "data": {
      "image/png": "[encoded data removed]",
      "text/plain": [
       "<Figure size 432x288 with 1 Axes>"
      ]
     },
     "metadata": {
      "needs_background": "light"
     },
     "output_type": "display_data"
    },
    {
     "data": {
      "text/html": [
       "grid_with_text_f10389ab: uid 316, ports [], aliases [], 0 polygons, 4 references"
      ],
      "text/plain": [
       "grid_with_text_f10389ab: uid 316, ports [], aliases [], 0 polygons, 4 references"
      ]
     },
     "execution_count": 21,
     "metadata": {},
     "output_type": "execute_result"
    }
   ],
   "source": [
    "gh_ymin = gf.grid_with_text(\n",
    "    sweep, shape=(1, len(sweep)), align_y=\"ymin\", text=text_metal3\n",
    ")\n",
    "gh_ymin"
   ]
  },
  {
   "cell_type": "markdown",
   "id": "0f736cb1",
   "metadata": {},
   "source": [
    "You can modify the text by customizing the `text_function` that you pass to `grid_with_text`"
   ]
  },
  {
   "cell_type": "code",
   "execution_count": 22,
   "id": "7ebc2c96",
   "metadata": {
    "execution": {
     "iopub.execute_input": "2022-05-20T16:35:13.256505Z",
     "iopub.status.busy": "2022-05-20T16:35:13.255913Z",
     "iopub.status.idle": "2022-05-20T16:35:13.778088Z",
     "shell.execute_reply": "2022-05-20T16:35:13.777179Z"
    },
    "vscode": {
     "languageId": "markdown"
    }
   },
   "outputs": [
    {
     "data": {
      "image/png": "[encoded data removed]",
      "text/plain": [
       "<Figure size 432x288 with 1 Axes>"
      ]
     },
     "metadata": {
      "needs_background": "light"
     },
     "output_type": "display_data"
    },
    {
     "data": {
      "text/html": [
       "grid_with_text_82b74348: uid 323, ports [], aliases [], 0 polygons, 4 references"
      ],
      "text/plain": [
       "grid_with_text_82b74348: uid 323, ports [], aliases [], 0 polygons, 4 references"
      ]
     },
     "execution_count": 22,
     "metadata": {},
     "output_type": "execute_result"
    }
   ],
   "source": [
    "gh_ymin_m2 = gf.grid_with_text(\n",
    "    sweep, shape=(1, len(sweep)), align_y=\"ymin\", text=text_metal2\n",
    ")\n",
    "gh_ymin_m2"
   ]
  },
  {
   "cell_type": "markdown",
   "id": "3b997412-a382-4ec5-8161-0598ea6ee774",
   "metadata": {},
   "source": [
    "You have 2 ways of defining a mask:\n",
    "\n",
    "1. in python\n",
    "2. in YAML\n",
    "\n",
    "\n",
    "## Mask in python\n",
    "\n",
    "You can define a mask using `grid` and `pack` python functions."
   ]
  },
  {
   "cell_type": "code",
   "execution_count": 23,
   "id": "60bcbcf0-503d-43b9-ac9f-6bd8a744cea7",
   "metadata": {
    "execution": {
     "iopub.execute_input": "2022-05-20T16:35:13.782089Z",
     "iopub.status.busy": "2022-05-20T16:35:13.781783Z",
     "iopub.status.idle": "2022-05-20T16:35:14.048020Z",
     "shell.execute_reply": "2022-05-20T16:35:14.047295Z"
    },
    "vscode": {
     "languageId": "markdown"
    }
   },
   "outputs": [
    {
     "data": {
      "image/png": "[encoded data removed]",
      "text/plain": [
       "<Figure size 432x288 with 1 Axes>"
      ]
     },
     "metadata": {
      "needs_background": "light"
     },
     "output_type": "display_data"
    },
    {
     "data": {
      "text/html": [
       "grid_with_text_ecfb4815: uid 333, ports [], aliases [], 0 polygons, 1 references"
      ],
      "text/plain": [
       "grid_with_text_ecfb4815: uid 333, ports [], aliases [], 0 polygons, 1 references"
      ]
     },
     "execution_count": 23,
     "metadata": {},
     "output_type": "execute_result"
    }
   ],
   "source": [
    "import gdsfactory as gf\n",
    "\n",
    "text_metal3 = gf.partial(\n",
    "    gf.components.text_rectangular_multi_layer, layers=(gf.LAYER.M3,)\n",
    ")\n",
    "grid = gf.partial(gf.grid_with_text, text=text_metal3)\n",
    "pack = gf.partial(gf.pack, text=text_metal3)\n",
    "\n",
    "gratings_sweep = [\n",
    "    gf.components.grating_coupler_elliptical(taper_angle=taper_angle)\n",
    "    for taper_angle in [20, 30, 40]\n",
    "]\n",
    "gratings = grid(gratings_sweep, text=None)\n",
    "gratings"
   ]
  },
  {
   "cell_type": "code",
   "execution_count": 24,
   "id": "e689a444-8af9-45f7-b068-2411a3c1277f",
   "metadata": {
    "execution": {
     "iopub.execute_input": "2022-05-20T16:35:14.051850Z",
     "iopub.status.busy": "2022-05-20T16:35:14.051289Z",
     "iopub.status.idle": "2022-05-20T16:35:14.369432Z",
     "shell.execute_reply": "2022-05-20T16:35:14.368724Z"
    }
   },
   "outputs": [
    {
     "data": {
      "image/png": "[encoded data removed]",
      "text/plain": [
       "<Figure size 432x288 with 1 Axes>"
      ]
     },
     "metadata": {
      "needs_background": "light"
     },
     "output_type": "display_data"
    },
    {
     "data": {
      "text/html": [
       "grid_with_text_73b08017: uid 359, ports [], aliases [], 0 polygons, 4 references"
      ],
      "text/plain": [
       "grid_with_text_73b08017: uid 359, ports [], aliases [], 0 polygons, 4 references"
      ]
     },
     "execution_count": 24,
     "metadata": {},
     "output_type": "execute_result"
    }
   ],
   "source": [
    "gratings_sweep = [\n",
    "    gf.components.grating_coupler_elliptical(taper_angle=taper_angle)\n",
    "    for taper_angle in [20, 30, 40]\n",
    "]\n",
    "gratings_loss_sweep = [\n",
    "    gf.components.grating_coupler_loss_fiber_single(grating_coupler=grating)\n",
    "    for grating in gratings_sweep\n",
    "]\n",
    "gratings = grid(\n",
    "    gratings_loss_sweep, shape=(1, len(gratings_loss_sweep)), spacing=(40, 0)\n",
    ")\n",
    "gratings"
   ]
  },
  {
   "cell_type": "code",
   "execution_count": 25,
   "id": "d25e85bf-4b7d-4cbe-8b83-1f096438cd14",
   "metadata": {
    "execution": {
     "iopub.execute_input": "2022-05-20T16:35:14.372688Z",
     "iopub.status.busy": "2022-05-20T16:35:14.372303Z",
     "iopub.status.idle": "2022-05-20T16:35:14.976174Z",
     "shell.execute_reply": "2022-05-20T16:35:14.975277Z"
    }
   },
   "outputs": [
    {
     "data": {
      "image/png": "[encoded data removed]",
      "text/plain": [
       "<Figure size 432x288 with 1 Axes>"
      ]
     },
     "metadata": {
      "needs_background": "light"
     },
     "output_type": "display_data"
    },
    {
     "data": {
      "text/html": [
       "pack_0_a6787ebf: uid 362, ports [], aliases [], 0 polygons, 3 references"
      ],
      "text/plain": [
       "pack_0_a6787ebf: uid 362, ports [], aliases [], 0 polygons, 3 references"
      ]
     },
     "execution_count": 25,
     "metadata": {},
     "output_type": "execute_result"
    }
   ],
   "source": [
    "sweep_resistance = [\n",
    "    gf.components.resistance_sheet(width=width) for width in [1, 10, 100]\n",
    "]\n",
    "resistance = gf.pack(sweep_resistance)[0]\n",
    "resistance"
   ]
  },
  {
   "cell_type": "code",
   "execution_count": 26,
   "id": "8080baf6-5426-4f0c-87e4-a4be3b1a455b",
   "metadata": {
    "execution": {
     "iopub.execute_input": "2022-05-20T16:35:14.980213Z",
     "iopub.status.busy": "2022-05-20T16:35:14.979362Z",
     "iopub.status.idle": "2022-05-20T16:35:15.500340Z",
     "shell.execute_reply": "2022-05-20T16:35:15.499287Z"
    }
   },
   "outputs": [
    {
     "data": {
      "image/png": "[encoded data removed]",
      "text/plain": [
       "<Figure size 432x288 with 1 Axes>"
      ]
     },
     "metadata": {
      "needs_background": "light"
     },
     "output_type": "display_data"
    },
    {
     "data": {
      "text/html": [
       "pack_0_10f9afd4: uid 365, ports [], aliases [], 0 polygons, 3 references"
      ],
      "text/plain": [
       "pack_0_10f9afd4: uid 365, ports [], aliases [], 0 polygons, 3 references"
      ]
     },
     "execution_count": 26,
     "metadata": {},
     "output_type": "execute_result"
    }
   ],
   "source": [
    "spiral_te = gf.compose(\n",
    "    gf.routing.add_fiber_single,\n",
    "    gf.functions.rotate90,\n",
    "    gf.components.spiral_inner_io_fiber_single,\n",
    ")\n",
    "sweep_spirals = [spiral_te(length=length) for length in [10e3, 20e3, 30e3]]\n",
    "spirals = gf.pack(sweep_spirals)[0]\n",
    "spirals"
   ]
  },
  {
   "cell_type": "code",
   "execution_count": 27,
   "id": "247f7734-9691-4e0b-92ab-27b6eb0d88f5",
   "metadata": {
    "execution": {
     "iopub.execute_input": "2022-05-20T16:35:15.504366Z",
     "iopub.status.busy": "2022-05-20T16:35:15.503744Z",
     "iopub.status.idle": "2022-05-20T16:35:16.559733Z",
     "shell.execute_reply": "2022-05-20T16:35:16.558986Z"
    }
   },
   "outputs": [
    {
     "data": {
      "image/png": "[encoded data removed]",
      "text/plain": [
       "<Figure size 432x288 with 1 Axes>"
      ]
     },
     "metadata": {
      "needs_background": "light"
     },
     "output_type": "display_data"
    },
    {
     "data": {
      "text/html": [
       "pack_0_25d31137: uid 366, ports [], aliases [], 0 polygons, 3 references"
      ],
      "text/plain": [
       "pack_0_25d31137: uid 366, ports [], aliases [], 0 polygons, 3 references"
      ]
     },
     "execution_count": 27,
     "metadata": {},
     "output_type": "execute_result"
    }
   ],
   "source": [
    "mask = gf.pack([spirals, resistance, gratings])[0]\n",
    "mask"
   ]
  },
  {
   "cell_type": "markdown",
   "id": "09a22557-34bc-42fe-8fcc-31cd887a2ee5",
   "metadata": {},
   "source": [
    "As you can see you can define your mask in a single line.\n",
    "\n",
    "For more complex mask, you can also create a new cell to build up more complexity"
   ]
  },
  {
   "cell_type": "code",
   "execution_count": 28,
   "id": "e78cf725-1243-42c4-b945-f1ab4464080e",
   "metadata": {
    "execution": {
     "iopub.execute_input": "2022-05-20T16:35:16.572278Z",
     "iopub.status.busy": "2022-05-20T16:35:16.567905Z",
     "iopub.status.idle": "2022-05-20T16:35:18.315328Z",
     "shell.execute_reply": "2022-05-20T16:35:18.314226Z"
    }
   },
   "outputs": [
    {
     "data": {
      "image/png": "[encoded data removed]",
      "text/plain": [
       "<Figure size 432x288 with 1 Axes>"
      ]
     },
     "metadata": {
      "needs_background": "light"
     },
     "output_type": "display_data"
    },
    {
     "data": {
      "text/html": [
       "mask: uid 367, ports [], aliases [], 0 polygons, 2 references"
      ],
      "text/plain": [
       "mask: uid 367, ports [], aliases [], 0 polygons, 2 references"
      ]
     },
     "execution_count": 28,
     "metadata": {},
     "output_type": "execute_result"
    }
   ],
   "source": [
    "@gf.cell\n",
    "def mask():\n",
    "    c = gf.Component()\n",
    "    c << gf.pack([spirals, resistance, gratings])[0]\n",
    "    c << gf.components.seal_ring(c.bbox)\n",
    "    return c\n",
    "\n",
    "\n",
    "c = mask(cache=False)\n",
    "c"
   ]
  },
  {
   "cell_type": "markdown",
   "id": "8c8bfba4",
   "metadata": {},
   "source": [
    "## Metadata\n",
    "\n",
    "When saving GDS files is also convenient to store the metadata settings that you used to generate the GDS file."
   ]
  },
  {
   "cell_type": "code",
   "execution_count": 29,
   "id": "3d7a73db-0d7b-446a-b43d-05e64d002bb1",
   "metadata": {
    "execution": {
     "iopub.execute_input": "2022-05-20T16:35:18.319048Z",
     "iopub.status.busy": "2022-05-20T16:35:18.318703Z",
     "iopub.status.idle": "2022-05-20T16:35:21.295501Z",
     "shell.execute_reply": "2022-05-20T16:35:21.294409Z"
    }
   },
   "outputs": [
    {
     "name": "stderr",
     "output_type": "stream",
     "text": [
      "2022-05-20 16:35:18.333 | INFO     | gdsfactory.component:write_gds:1001 - Write GDS to 'extra/mask.gds'\n"
     ]
    },
    {
     "name": "stderr",
     "output_type": "stream",
     "text": [
      "2022-05-20 16:35:21.286 | INFO     | gdsfactory.component:write_gds_with_metadata:1009 - Write YAML metadata to 'extra/mask.yml'\n"
     ]
    }
   ],
   "source": [
    "gdspath = c.write_gds_with_metadata(gdsdir=\"extra\")"
   ]
  },
  {
   "cell_type": "code",
   "execution_count": 30,
   "id": "b36c5ad4-e2de-4751-8d02-5f5510ee6346",
   "metadata": {
    "execution": {
     "iopub.execute_input": "2022-05-20T16:35:21.300047Z",
     "iopub.status.busy": "2022-05-20T16:35:21.299781Z",
     "iopub.status.idle": "2022-05-20T16:35:21.303940Z",
     "shell.execute_reply": "2022-05-20T16:35:21.303171Z"
    }
   },
   "outputs": [],
   "source": [
    "yaml_path = gdspath.with_suffix(\".yml\")"
   ]
  },
  {
   "cell_type": "code",
   "execution_count": 31,
   "id": "849dbc8a-d702-4163-bd33-68acf300928b",
   "metadata": {
    "execution": {
     "iopub.execute_input": "2022-05-20T16:35:21.307242Z",
     "iopub.status.busy": "2022-05-20T16:35:21.306983Z",
     "iopub.status.idle": "2022-05-20T16:35:21.316885Z",
     "shell.execute_reply": "2022-05-20T16:35:21.315741Z"
    }
   },
   "outputs": [
    {
     "name": "stderr",
     "output_type": "stream",
     "text": [
      "2022-05-20 16:35:21.312 | INFO     | gdsfactory.mask.write_labels:write_labels:84 - Wrote 18 labels to CSV /home/runner/work/gdsfactory/gdsfactory/docs/notebooks/extra/mask.csv\n"
     ]
    }
   ],
   "source": [
    "labels_path = gf.mask.write_labels(gdspath=gdspath, layer_label=(201, 0))"
   ]
  },
  {
   "cell_type": "code",
   "execution_count": 32,
   "id": "18d44fd2-b9d9-42a5-a563-c8eedf6fa723",
   "metadata": {
    "execution": {
     "iopub.execute_input": "2022-05-20T16:35:21.321169Z",
     "iopub.status.busy": "2022-05-20T16:35:21.320913Z",
     "iopub.status.idle": "2022-05-20T16:35:24.966297Z",
     "shell.execute_reply": "2022-05-20T16:35:24.965369Z"
    }
   },
   "outputs": [],
   "source": [
    "from omegaconf import OmegaConf\n",
    "\n",
    "mask_metadata = OmegaConf.load(yaml_path)"
   ]
  },
  {
   "cell_type": "code",
   "execution_count": 33,
   "id": "92de97d6-064b-45ea-91c5-c8125dba4bb2",
   "metadata": {
    "execution": {
     "iopub.execute_input": "2022-05-20T16:35:24.970995Z",
     "iopub.status.busy": "2022-05-20T16:35:24.970386Z",
     "iopub.status.idle": "2022-05-20T16:35:25.217322Z",
     "shell.execute_reply": "2022-05-20T16:35:25.216355Z"
    }
   },
   "outputs": [],
   "source": [
    "test_metadata = tm = gf.mask.merge_test_metadata(\n",
    "    labels_path=labels_path, mask_metadata=mask_metadata\n",
    ")"
   ]
  },
  {
   "cell_type": "code",
   "execution_count": 34,
   "id": "60c84507-5366-4fa9-8fc8-8850ba344f15",
   "metadata": {
    "execution": {
     "iopub.execute_input": "2022-05-20T16:35:25.221894Z",
     "iopub.status.busy": "2022-05-20T16:35:25.221601Z",
     "iopub.status.idle": "2022-05-20T16:35:25.227252Z",
     "shell.execute_reply": "2022-05-20T16:35:25.226398Z"
    }
   },
   "outputs": [
    {
     "data": {
      "text/plain": [
       "dict_keys(['spiral_inner_io_1554034d', 'spiral_inner_io_53887075', 'spiral_inner_io_cff9290e', 'grating_coupler_ellipti_5b177037', 'grating_coupler_ellipti_e46bd0af', 'grating_coupler_elliptical'])"
      ]
     },
     "execution_count": 34,
     "metadata": {},
     "output_type": "execute_result"
    }
   ],
   "source": [
    "tm.keys()"
   ]
  },
  {
   "cell_type": "markdown",
   "id": "29417bda-84bd-44f2-b562-eead25e70645",
   "metadata": {},
   "source": [
    "```\n",
    "\n",
    "CSV labels  ------|\n",
    "                  |--> merge_test_metadata dict\n",
    "                  |\n",
    "YAML metatada  ---\n",
    "\n",
    "```"
   ]
  },
  {
   "cell_type": "code",
   "execution_count": 35,
   "id": "30a2031d-780d-4ea5-b2df-d06aa170b4c0",
   "metadata": {
    "execution": {
     "iopub.execute_input": "2022-05-20T16:35:25.231686Z",
     "iopub.status.busy": "2022-05-20T16:35:25.231413Z",
     "iopub.status.idle": "2022-05-20T16:35:25.239569Z",
     "shell.execute_reply": "2022-05-20T16:35:25.238708Z"
    }
   },
   "outputs": [
    {
     "data": {
      "text/plain": [
       "['spiral_inner_io_1554034d',\n",
       " 'spiral_inner_io_53887075',\n",
       " 'spiral_inner_io_cff9290e']"
      ]
     },
     "execution_count": 35,
     "metadata": {},
     "output_type": "execute_result"
    }
   ],
   "source": [
    "spiral_names = [s for s in test_metadata.keys() if s.startswith(\"spiral\")]\n",
    "spiral_names"
   ]
  },
  {
   "cell_type": "code",
   "execution_count": 36,
   "id": "ec394506-143b-4831-ae38-06a1d8d5896b",
   "metadata": {
    "execution": {
     "iopub.execute_input": "2022-05-20T16:35:25.243412Z",
     "iopub.status.busy": "2022-05-20T16:35:25.243158Z",
     "iopub.status.idle": "2022-05-20T16:35:25.248515Z",
     "shell.execute_reply": "2022-05-20T16:35:25.247745Z"
    }
   },
   "outputs": [
    {
     "data": {
      "text/plain": [
       "[29999.994, 20000.004, 9999.992]"
      ]
     },
     "execution_count": 36,
     "metadata": {},
     "output_type": "execute_result"
    }
   ],
   "source": [
    "spiral_lengths = [\n",
    "    test_metadata[spiral_name].info.length for spiral_name in spiral_names\n",
    "]\n",
    "spiral_lengths"
   ]
  },
  {
   "cell_type": "code",
   "execution_count": 37,
   "id": "ef3bbdfc-026b-49a6-a5a9-b9c2c7142df5",
   "metadata": {
    "execution": {
     "iopub.execute_input": "2022-05-20T16:35:25.252445Z",
     "iopub.status.busy": "2022-05-20T16:35:25.251865Z",
     "iopub.status.idle": "2022-05-20T16:35:25.257637Z",
     "shell.execute_reply": "2022-05-20T16:35:25.256835Z"
    }
   },
   "outputs": [
    {
     "data": {
      "text/plain": [
       "['grating_coupler_ellipti_5b177037',\n",
       " 'grating_coupler_ellipti_e46bd0af',\n",
       " 'grating_coupler_elliptical']"
      ]
     },
     "execution_count": 37,
     "metadata": {},
     "output_type": "execute_result"
    }
   ],
   "source": [
    "gc_names = [s for s in test_metadata.keys() if s.startswith(\"grating\")]\n",
    "gc_names"
   ]
  },
  {
   "cell_type": "code",
   "execution_count": 38,
   "id": "88fb84ba-b7fb-41e3-956c-b9fb55454f38",
   "metadata": {
    "execution": {
     "iopub.execute_input": "2022-05-20T16:35:25.261845Z",
     "iopub.status.busy": "2022-05-20T16:35:25.261393Z",
     "iopub.status.idle": "2022-05-20T16:35:25.267480Z",
     "shell.execute_reply": "2022-05-20T16:35:25.266298Z"
    }
   },
   "outputs": [
    {
     "data": {
      "text/plain": [
       "[20, 30, 40]"
      ]
     },
     "execution_count": 38,
     "metadata": {},
     "output_type": "execute_result"
    }
   ],
   "source": [
    "gc_taper_angles = [test_metadata[name].full.taper_angle for name in gc_names]\n",
    "gc_taper_angles"
   ]
  },
  {
   "cell_type": "markdown",
   "id": "0c911100-991c-4f6f-8eb9-a3a35704c633",
   "metadata": {},
   "source": [
    "## Mask in YAML\n",
    "\n",
    "You can define both circuits and masks in YAML format thanks to `gdsfactory.read.from_yaml`\n",
    "\n",
    "For a mask you need to define:\n",
    "\n",
    "- instances\n",
    "- placements\n",
    "\n",
    "and you can leverage:\n",
    "\n",
    "1. `pack_doe`\n",
    "2. `pack_doe_grid` components"
   ]
  },
  {
   "cell_type": "markdown",
   "id": "7a6853f9-1a3e-4b33-906d-2b11cc2580d8",
   "metadata": {},
   "source": [
    "### 1. pack_doe\n",
    "\n",
    "`pack_doe` places components as compact as possible"
   ]
  },
  {
   "cell_type": "markdown",
   "id": "d2cbd3c8",
   "metadata": {},
   "source": [
    "When running this tutorial make sure you UNCOMMENT this line `%matplotlib widget` so you can live update your changes in the YAML file\n",
    "\n",
    "`# %matplotlib widget`  -> `%matplotlib widget` "
   ]
  },
  {
   "cell_type": "code",
   "execution_count": 39,
   "id": "8c6dbf81",
   "metadata": {
    "execution": {
     "iopub.execute_input": "2022-05-20T16:35:25.272778Z",
     "iopub.status.busy": "2022-05-20T16:35:25.270306Z",
     "iopub.status.idle": "2022-05-20T16:35:26.562381Z",
     "shell.execute_reply": "2022-05-20T16:35:26.561413Z"
    }
   },
   "outputs": [
    {
     "data": {
      "application/vnd.jupyter.widget-view+json": {
       "model_id": "ce3f1d551e4c4b0b8ab60c531618852e",
       "version_major": 2,
       "version_minor": 0
      },
      "text/plain": [
       "Textarea(value='\\nname: mask_grid\\n\\ninstances:\\n  rings:\\n    component: pack_doe\\n    settings:\\n      doe: …"
      ]
     },
     "metadata": {},
     "output_type": "display_data"
    },
    {
     "data": {
      "application/vnd.jupyter.widget-view+json": {
       "model_id": "4b6f1e7b069b4a888e1e0294b914d513",
       "version_major": 2,
       "version_minor": 0
      },
      "text/plain": [
       "Output()"
      ]
     },
     "metadata": {},
     "output_type": "display_data"
    },
    {
     "data": {
      "image/png": "[encoded data removed]",
      "text/plain": [
       "<Figure size 432x288 with 1 Axes>"
      ]
     },
     "metadata": {
      "needs_background": "light"
     },
     "output_type": "display_data"
    }
   ],
   "source": [
    "# %matplotlib widget\n",
    "\n",
    "import ipywidgets\n",
    "from IPython.display import clear_output\n",
    "import matplotlib.pyplot as plt\n",
    "import gdsfactory as gf\n",
    "\n",
    "x = ipywidgets.Textarea(rows=20, columns=480)\n",
    "\n",
    "x.value = \"\"\"\n",
    "name: mask_grid\n",
    "\n",
    "instances:\n",
    "  rings:\n",
    "    component: pack_doe\n",
    "    settings:\n",
    "      doe: ring_single\n",
    "      settings:\n",
    "        radius: [30, 50, 20, 40]\n",
    "        length_x: [1, 2, 3]\n",
    "      do_permutations: True\n",
    "      function:\n",
    "        function: add_fiber_array\n",
    "        settings:\n",
    "            fanout_length: 200\n",
    "\n",
    "  mzis:\n",
    "    component: pack_doe\n",
    "    settings:\n",
    "      doe: mzi\n",
    "      settings:\n",
    "        delta_length: [10, 100]\n",
    "      function: add_fiber_array\n",
    "\n",
    "placements:\n",
    "  rings:\n",
    "    xmin: 50\n",
    "\n",
    "  mzis:\n",
    "    xmin: rings,east\n",
    "\"\"\"\n",
    "\n",
    "out = ipywidgets.Output()\n",
    "display(x, out)\n",
    "\n",
    "def f(change, out=out):\n",
    "    try:\n",
    "        c = gf.read.from_yaml(change['new'])\n",
    "        #clear_output()\n",
    "        fig = c.plot()\n",
    "        c.show()\n",
    "        out.clear_output()\n",
    "    except Exception as e:\n",
    "        out.clear_output()\n",
    "        with out:\n",
    "            display(e)\n",
    "\n",
    "x.observe(f, 'value')\n",
    "f({'new':x.value})"
   ]
  },
  {
   "cell_type": "markdown",
   "id": "6e29d5f3-8ba7-48e8-91a4-3578d7ff18b3",
   "metadata": {},
   "source": [
    "### 2. pack_doe_grid\n",
    "\n",
    "`pack_doe_grid` places each component on a regular grid"
   ]
  },
  {
   "cell_type": "code",
   "execution_count": 40,
   "id": "4c472fea-7a10-46ba-ac63-ae624df8081f",
   "metadata": {
    "execution": {
     "iopub.execute_input": "2022-05-20T16:35:26.569680Z",
     "iopub.status.busy": "2022-05-20T16:35:26.569245Z",
     "iopub.status.idle": "2022-05-20T16:35:27.203938Z",
     "shell.execute_reply": "2022-05-20T16:35:27.203135Z"
    }
   },
   "outputs": [
    {
     "data": {
      "image/png": "[encoded data removed]",
      "text/plain": [
       "<Figure size 432x288 with 1 Axes>"
      ]
     },
     "metadata": {
      "needs_background": "light"
     },
     "output_type": "display_data"
    },
    {
     "data": {
      "application/vnd.jupyter.widget-view+json": {
       "model_id": "ce3f1d551e4c4b0b8ab60c531618852e",
       "version_major": 2,
       "version_minor": 0
      },
      "text/plain": [
       "Textarea(value='\\nname: mask_compact\\n\\ninstances:\\n  rings:\\n    component: pack_doe\\n    settings:\\n      do…"
      ]
     },
     "metadata": {},
     "output_type": "display_data"
    },
    {
     "data": {
      "application/vnd.jupyter.widget-view+json": {
       "model_id": "4b6f1e7b069b4a888e1e0294b914d513",
       "version_major": 2,
       "version_minor": 0
      },
      "text/plain": [
       "Output()"
      ]
     },
     "metadata": {},
     "output_type": "display_data"
    }
   ],
   "source": [
    "x.value = \"\"\"\n",
    "name: mask_compact\n",
    "\n",
    "instances:\n",
    "  rings:\n",
    "    component: pack_doe\n",
    "    settings:\n",
    "      doe: ring_single\n",
    "      settings:\n",
    "        radius: [30, 50, 20, 40]\n",
    "        length_x: [1, 2, 3]\n",
    "      do_permutations: True\n",
    "      function:\n",
    "        function: add_fiber_array\n",
    "        settings:\n",
    "            fanout_length: 200\n",
    "\n",
    "\n",
    "  mzis:\n",
    "    component: pack_doe_grid\n",
    "    settings:\n",
    "      doe: mzi\n",
    "      settings:\n",
    "        delta_length: [10, 100]\n",
    "      do_permutations: True\n",
    "      spacing: [10, 10]\n",
    "      function: add_fiber_array\n",
    "\n",
    "placements:\n",
    "  rings:\n",
    "    xmin: 50\n",
    "\n",
    "  mzis:\n",
    "    xmin: rings,east\n",
    "\"\"\"\n",
    "\n",
    "display(x, out)"
   ]
  }
 ],
 "metadata": {
  "kernelspec": {
   "display_name": "Python 3 (ipykernel)",
   "language": "python",
   "name": "python3"
  },
  "language_info": {
   "codemirror_mode": {
    "name": "ipython",
    "version": 3
   },
   "file_extension": ".py",
   "mimetype": "text/x-python",
   "name": "python",
   "nbconvert_exporter": "python",
   "pygments_lexer": "ipython3",
   "version": "3.9.12"
  },
  "widgets": {
   "application/vnd.jupyter.widget-state+json": {
    "state": {
     "4b6f1e7b069b4a888e1e0294b914d513": {
      "model_module": "@jupyter-widgets/output",
      "model_module_version": "1.0.0",
      "model_name": "OutputModel",
      "state": {
       "_dom_classes": [],
       "_model_module": "@jupyter-widgets/output",
       "_model_module_version": "1.0.0",
       "_model_name": "OutputModel",
       "_view_count": null,
       "_view_module": "@jupyter-widgets/output",
       "_view_module_version": "1.0.0",
       "_view_name": "OutputView",
       "layout": "IPY_MODEL_a3c60ecf4d1c47a6bb5f3ce02b7cbe5f",
       "msg_id": "",
       "outputs": []
      }
     },
     "8264ddb22c714e579914f618618f6714": {
      "model_module": "@jupyter-widgets/base",
      "model_module_version": "1.2.0",
      "model_name": "LayoutModel",
      "state": {
       "_model_module": "@jupyter-widgets/base",
       "_model_module_version": "1.2.0",
       "_model_name": "LayoutModel",
       "_view_count": null,
       "_view_module": "@jupyter-widgets/base",
       "_view_module_version": "1.2.0",
       "_view_name": "LayoutView",
       "align_content": null,
       "align_items": null,
       "align_self": null,
       "border": null,
       "bottom": null,
       "display": null,
       "flex": null,
       "flex_flow": null,
       "grid_area": null,
       "grid_auto_columns": null,
       "grid_auto_flow": null,
       "grid_auto_rows": null,
       "grid_column": null,
       "grid_gap": null,
       "grid_row": null,
       "grid_template_areas": null,
       "grid_template_columns": null,
       "grid_template_rows": null,
       "height": null,
       "justify_content": null,
       "justify_items": null,
       "left": null,
       "margin": null,
       "max_height": null,
       "max_width": null,
       "min_height": null,
       "min_width": null,
       "object_fit": null,
       "object_position": null,
       "order": null,
       "overflow": null,
       "overflow_x": null,
       "overflow_y": null,
       "padding": null,
       "right": null,
       "top": null,
       "visibility": null,
       "width": null
      }
     },
     "a3c60ecf4d1c47a6bb5f3ce02b7cbe5f": {
      "model_module": "@jupyter-widgets/base",
      "model_module_version": "1.2.0",
      "model_name": "LayoutModel",
      "state": {
       "_model_module": "@jupyter-widgets/base",
       "_model_module_version": "1.2.0",
       "_model_name": "LayoutModel",
       "_view_count": null,
       "_view_module": "@jupyter-widgets/base",
       "_view_module_version": "1.2.0",
       "_view_name": "LayoutView",
       "align_content": null,
       "align_items": null,
       "align_self": null,
       "border": null,
       "bottom": null,
       "display": null,
       "flex": null,
       "flex_flow": null,
       "grid_area": null,
       "grid_auto_columns": null,
       "grid_auto_flow": null,
       "grid_auto_rows": null,
       "grid_column": null,
       "grid_gap": null,
       "grid_row": null,
       "grid_template_areas": null,
       "grid_template_columns": null,
       "grid_template_rows": null,
       "height": null,
       "justify_content": null,
       "justify_items": null,
       "left": null,
       "margin": null,
       "max_height": null,
       "max_width": null,
       "min_height": null,
       "min_width": null,
       "object_fit": null,
       "object_position": null,
       "order": null,
       "overflow": null,
       "overflow_x": null,
       "overflow_y": null,
       "padding": null,
       "right": null,
       "top": null,
       "visibility": null,
       "width": null
      }
     },
     "ce3f1d551e4c4b0b8ab60c531618852e": {
      "model_module": "@jupyter-widgets/controls",
      "model_module_version": "1.5.0",
      "model_name": "TextareaModel",
      "state": {
       "_dom_classes": [],
       "_model_module": "@jupyter-widgets/controls",
       "_model_module_version": "1.5.0",
       "_model_name": "TextareaModel",
       "_view_count": null,
       "_view_module": "@jupyter-widgets/controls",
       "_view_module_version": "1.5.0",
       "_view_name": "TextareaView",
       "continuous_update": true,
       "description": "",
       "description_tooltip": null,
       "disabled": false,
       "layout": "IPY_MODEL_8264ddb22c714e579914f618618f6714",
       "placeholder": "​",
       "rows": 20,
       "style": "IPY_MODEL_d8cf099a55ba4bcc8f5f23bcd9212e35",
       "value": "\nname: mask_compact\n\ninstances:\n  rings:\n    component: pack_doe\n    settings:\n      doe: ring_single\n      settings:\n        radius: [30, 50, 20, 40]\n        length_x: [1, 2, 3]\n      do_permutations: True\n      function:\n        function: add_fiber_array\n        settings:\n            fanout_length: 200\n\n\n  mzis:\n    component: pack_doe_grid\n    settings:\n      doe: mzi\n      settings:\n        delta_length: [10, 100]\n      do_permutations: True\n      spacing: [10, 10]\n      function: add_fiber_array\n\nplacements:\n  rings:\n    xmin: 50\n\n  mzis:\n    xmin: rings,east\n"
      }
     },
     "d8cf099a55ba4bcc8f5f23bcd9212e35": {
      "model_module": "@jupyter-widgets/controls",
      "model_module_version": "1.5.0",
      "model_name": "DescriptionStyleModel",
      "state": {
       "_model_module": "@jupyter-widgets/controls",
       "_model_module_version": "1.5.0",
       "_model_name": "DescriptionStyleModel",
       "_view_count": null,
       "_view_module": "@jupyter-widgets/base",
       "_view_module_version": "1.2.0",
       "_view_name": "StyleView",
       "description_width": ""
      }
     }
    },
    "version_major": 2,
    "version_minor": 0
   }
  }
 },
 "nbformat": 4,
 "nbformat_minor": 5
}
